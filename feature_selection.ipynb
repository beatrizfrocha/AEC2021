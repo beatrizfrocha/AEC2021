{
 "cells": [
  {
   "cell_type": "markdown",
   "metadata": {},
   "source": [
    "# Import libraries"
   ]
  },
  {
   "cell_type": "code",
   "execution_count": 1,
   "metadata": {},
   "outputs": [],
   "source": [
    "import pandas as pd\n",
    "import numpy as np\n",
    "from sklearn.preprocessing import OrdinalEncoder\n",
    "from sklearn.feature_selection import VarianceThreshold, SelectKBest, f_classif\n",
    "from sklearn.ensemble import ExtraTreesClassifier\n",
    "from sklearn import preprocessing\n",
    "from sklearn.svm import SVC"
   ]
  },
  {
   "cell_type": "markdown",
   "metadata": {},
   "source": [
    "# Load train and test dataset"
   ]
  },
  {
   "cell_type": "code",
   "execution_count": 2,
   "metadata": {},
   "outputs": [],
   "source": [
    "training = pd.read_csv(\"training.csv\")\n",
    "test = pd.read_csv(\"test.csv\")"
   ]
  },
  {
   "cell_type": "markdown",
   "metadata": {},
   "source": [
    "# Remove unnecessary columns"
   ]
  },
  {
   "cell_type": "code",
   "execution_count": 3,
   "metadata": {},
   "outputs": [],
   "source": [
    "training = training.drop(\"education\", 1)\n",
    "test = test.drop(\"education\", 1)"
   ]
  },
  {
   "cell_type": "markdown",
   "metadata": {},
   "source": [
    "# Replace all '?' by NaN and drop rows containing the latter"
   ]
  },
  {
   "cell_type": "code",
   "execution_count": 4,
   "metadata": {},
   "outputs": [],
   "source": [
    "for data in training:\n",
    "    training[data].replace(' ?', np.nan, inplace=True)\n",
    "    \n",
    "for data in test:\n",
    "    test[data].replace(' ?', np.nan, inplace=True)\n",
    "\n",
    "training.dropna(inplace=True)\n",
    "test.dropna(inplace=True)"
   ]
  },
  {
   "cell_type": "markdown",
   "metadata": {},
   "source": [
    "# Turning non-numerical values into numerical"
   ]
  },
  {
   "cell_type": "code",
   "execution_count": 5,
   "metadata": {},
   "outputs": [],
   "source": [
    "ord_enc = OrdinalEncoder()\n",
    "for i in ['workclass','marital-status','occupation','relationship','race','sex','native-country','salary-classification']:\n",
    "    training[i] = ord_enc.fit_transform(training[[i]]).astype(int)\n",
    "    test[i] = ord_enc.fit_transform(test[[i]]).astype(int)"
   ]
  },
  {
   "cell_type": "code",
   "execution_count": 6,
   "metadata": {},
   "outputs": [],
   "source": [
    "X_train = training.drop('salary-classification',1)\n",
    "y_train = training['salary-classification']\n",
    "X_test = test.drop('salary-classification',1) \n",
    "y_test = test['salary-classification']"
   ]
  },
  {
   "cell_type": "markdown",
   "metadata": {},
   "source": [
    "# **Filter methods**"
   ]
  },
  {
   "cell_type": "markdown",
   "metadata": {},
   "source": [
    "# Variance threshold"
   ]
  },
  {
   "cell_type": "code",
   "execution_count": 7,
   "metadata": {},
   "outputs": [
    {
     "data": {
      "text/plain": [
       "array([7.30000000e+01, 9.09941854e-01, 1.47093600e+06, 6.50225850e+00,\n",
       "       2.24397640e+00, 1.30000000e+01, 2.56419912e+00, 6.96716725e-01,\n",
       "       2.19134909e-01, 9.99990000e+04, 4.35600000e+03, 9.80000000e+01,\n",
       "       3.72743370e+01])"
      ]
     },
     "execution_count": 7,
     "metadata": {},
     "output_type": "execute_result"
    }
   ],
   "source": [
    "selector = VarianceThreshold()\n",
    "selector.fit_transform(X_train)\n",
    "selector.variances_"
   ]
  },
  {
   "cell_type": "markdown",
   "metadata": {},
   "source": [
    "# SelectKBest"
   ]
  },
  {
   "cell_type": "code",
   "execution_count": 13,
   "metadata": {},
   "outputs": [
    {
     "name": "stdout",
     "output_type": "stream",
     "text": [
      "*** 0 age\n",
      "**  3 education-num\n",
      "*   6 relationship\n",
      "0.7908366533864541\n"
     ]
    }
   ],
   "source": [
    "selector = SelectKBest(f_classif, k=3)\n",
    "selector.fit(X_train, y_train)\n",
    "cols = selector.get_support(indices=True)\n",
    "cols_names = list(X_train.columns[cols])\n",
    "\n",
    "for idx, (ci, cn) in enumerate(zip(cols, cols_names)):\n",
    "    print(\"*\" * (len(cols) - idx) + \" \" * idx, ci, cn)\n",
    "\n",
    "clf_model = SVC()\n",
    "\n",
    "clf_model.fit(X_train,y_train)\n",
    "score = clf_model.score(X_test,y_test)\n",
    "print(score)"
   ]
  },
  {
   "cell_type": "markdown",
   "metadata": {},
   "source": [
    "# **Embedded methods**"
   ]
  },
  {
   "cell_type": "markdown",
   "metadata": {},
   "source": [
    "# Feature Importance"
   ]
  },
  {
   "cell_type": "code",
   "execution_count": 9,
   "metadata": {},
   "outputs": [
    {
     "name": "stdout",
     "output_type": "stream",
     "text": [
      "Feature ranking:\n",
      "1. feature 2 - fnlwgt (0.164730)\n",
      "2. feature 0 - age (0.162880)\n",
      "3. feature 3 - education-num (0.125213)\n",
      "4. feature 11 - hours-per-week (0.091299)\n",
      "5. feature 9 - capital-gain (0.091088)\n",
      "6. feature 4 - marital-status (0.087145)\n",
      "7. feature 5 - occupation (0.076997)\n",
      "8. feature 6 - relationship (0.067462)\n",
      "9. feature 1 - workclass (0.040426)\n",
      "10. feature 8 - sex (0.034084)\n",
      "11. feature 10 - capital-loss (0.029511)\n",
      "12. feature 12 - native-country (0.015384)\n",
      "13. feature 7 - race (0.013781)\n"
     ]
    }
   ],
   "source": [
    "model = ExtraTreesClassifier(n_estimators=13)\n",
    "model.fit(X_train,y_train)\n",
    "importances = model.feature_importances_\n",
    "indices = np.argsort(importances)[::-1]\n",
    "print(\"Feature ranking:\")\n",
    "for f in range(X_train.shape[1]):\n",
    "    print(\"%d. feature %d - %s (%f)\" % (f+1, indices[f], X_train.columns[indices[f]], importances[indices[f]]))"
   ]
  }
 ],
 "metadata": {
  "kernelspec": {
   "display_name": "Python 3",
   "language": "python",
   "name": "python3"
  },
  "language_info": {
   "codemirror_mode": {
    "name": "ipython",
    "version": 3
   },
   "file_extension": ".py",
   "mimetype": "text/x-python",
   "name": "python",
   "nbconvert_exporter": "python",
   "pygments_lexer": "ipython3",
   "version": "3.8.3"
  }
 },
 "nbformat": 4,
 "nbformat_minor": 4
}
