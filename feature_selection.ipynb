{
 "cells": [
  {
   "cell_type": "markdown",
   "metadata": {},
   "source": [
    "# **Setup**"
   ]
  },
  {
   "cell_type": "markdown",
   "metadata": {},
   "source": [
    "## Import notebooks"
   ]
  },
  {
   "cell_type": "code",
   "execution_count": 1,
   "metadata": {},
   "outputs": [],
   "source": [
    "%%capture\n",
    "# Note the python import here\n",
    "import reuse, sys\n",
    "\n",
    "# This is the Ipython hook\n",
    "sys.meta_path.append(reuse.NotebookFinder())\n",
    "from dataset_balancing import X_train, X_test, y_train, y_test"
   ]
  },
  {
   "cell_type": "markdown",
   "metadata": {},
   "source": [
    "## Import libraries"
   ]
  },
  {
   "cell_type": "code",
   "execution_count": 2,
   "metadata": {},
   "outputs": [],
   "source": [
    "from sklearn.feature_selection import VarianceThreshold, SelectKBest, f_classif, RFE\n",
    "from sklearn.ensemble import ExtraTreesClassifier\n",
    "from sklearn import preprocessing\n",
    "from sklearn.svm import SVC\n",
    "from sklearn.decomposition import PCA\n",
    "from sklearn.linear_model import LogisticRegression\n",
    "\n",
    "import pandas as pd\n",
    "import numpy as np"
   ]
  },
  {
   "cell_type": "markdown",
   "metadata": {},
   "source": [
    "# **Feature selection**"
   ]
  },
  {
   "cell_type": "markdown",
   "metadata": {},
   "source": [
    "## Filter Methods"
   ]
  },
  {
   "cell_type": "markdown",
   "metadata": {},
   "source": [
    "### Variance Threshold"
   ]
  },
  {
   "cell_type": "code",
   "execution_count": 3,
   "metadata": {},
   "outputs": [
    {
     "data": {
      "text/plain": [
       "array([3.52729416e-01, 1.44055700e+06, 6.73852724e+00, 2.38703153e-01,\n",
       "       2.24836271e-01, 1.08825049e-01, 1.95080065e-01, 9.99990000e+04,\n",
       "       3.90000000e+03, 5.75279633e-01, 7.50358515e-02, 2.05433348e-01,\n",
       "       1.28875976e-01, 3.32867282e-04, 1.17931456e-01, 2.49172327e-01,\n",
       "       1.65654163e-01, 2.13662344e-02, 9.04472097e-02, 7.13395278e-02,\n",
       "       5.80981246e-02])"
      ]
     },
     "execution_count": 3,
     "metadata": {},
     "output_type": "execute_result"
    }
   ],
   "source": [
    "selector = VarianceThreshold()\n",
    "selector.fit_transform(X_train)\n",
    "selector.variances_"
   ]
  },
  {
   "cell_type": "markdown",
   "metadata": {},
   "source": [
    "### SelectKBest"
   ]
  },
  {
   "cell_type": "code",
   "execution_count": 4,
   "metadata": {},
   "outputs": [
    {
     "name": "stdout",
     "output_type": "stream",
     "text": [
      "********************* 0 age\n",
      "********************  1 fnlwgt\n",
      "*******************   2 education-num\n",
      "******************    3 marital-status\n",
      "*****************     4 occupation\n",
      "****************      5 race\n",
      "***************       6 sex\n",
      "**************        7 capital-gain\n",
      "*************         8 capital-loss\n",
      "************          9 hours-per-week\n",
      "***********           10 native-country\n",
      "**********            11 workclass_Private\n",
      "*********             12 workclass_gov\n",
      "********              13 workclass_others\n",
      "*******               14 workclass_selfempl\n",
      "******                15 relationship_ Husband\n",
      "*****                 16 relationship_ Not-in-family\n",
      "****                  17 relationship_ Other-relative\n",
      "***                   18 relationship_ Own-child\n",
      "**                    19 relationship_ Unmarried\n",
      "*                     20 relationship_ Wife\n",
      "0.7693227091633467\n"
     ]
    }
   ],
   "source": [
    "selector = SelectKBest(f_classif, k=21)\n",
    "selector.fit(X_train, y_train)\n",
    "cols = selector.get_support(indices=True)\n",
    "cols_names = list(X_train.columns[cols])\n",
    "\n",
    "for idx, (ci, cn) in enumerate(zip(cols, cols_names)):\n",
    "    print(\"*\" * (len(cols) - idx) + \" \" * idx, ci, cn)\n",
    "\n",
    "temp_train = X_train[cols_names]\n",
    "temp_test = X_test[cols_names]\n",
    "\n",
    "scaler = preprocessing.MinMaxScaler(feature_range=(0,1))\n",
    "values_standardized_train = scaler.fit_transform(temp_train.values)\n",
    "values_standardized_test = scaler.fit_transform(temp_test.values)\n",
    "temp_train = pd.DataFrame(values_standardized_train, columns = temp_train.columns)\n",
    "temp_test = pd.DataFrame(values_standardized_test, columns = temp_test.columns)\n",
    "\n",
    "clf_model = SVC(random_state=0)\n",
    "\n",
    "clf_model.fit(temp_train,y_train)\n",
    "score = clf_model.score(temp_test,y_test)\n",
    "print(score)"
   ]
  },
  {
   "cell_type": "markdown",
   "metadata": {},
   "source": [
    "## Wrapper Methods"
   ]
  },
  {
   "cell_type": "markdown",
   "metadata": {},
   "source": [
    "### Recursive Feature Elimination"
   ]
  },
  {
   "cell_type": "code",
   "execution_count": 5,
   "metadata": {},
   "outputs": [
    {
     "name": "stdout",
     "output_type": "stream",
     "text": [
      "Optimal number of features: 10\n",
      "[ True False False  True  True False  True False False  True False False\n",
      " False  True False  True False  True  True False  True]\n",
      "[ 1 12  2  1  1  9  1 11 10  1  3  5  4  1  6  1  8  1  1  7  1]\n"
     ]
    },
    {
     "data": {
      "text/html": [
       "<div>\n",
       "<style scoped>\n",
       "    .dataframe tbody tr th:only-of-type {\n",
       "        vertical-align: middle;\n",
       "    }\n",
       "\n",
       "    .dataframe tbody tr th {\n",
       "        vertical-align: top;\n",
       "    }\n",
       "\n",
       "    .dataframe thead th {\n",
       "        text-align: right;\n",
       "    }\n",
       "</style>\n",
       "<table border=\"1\" class=\"dataframe\">\n",
       "  <thead>\n",
       "    <tr style=\"text-align: right;\">\n",
       "      <th></th>\n",
       "      <th>Feature</th>\n",
       "      <th>Ranking</th>\n",
       "    </tr>\n",
       "  </thead>\n",
       "  <tbody>\n",
       "    <tr>\n",
       "      <th>0</th>\n",
       "      <td>age</td>\n",
       "      <td>1</td>\n",
       "    </tr>\n",
       "    <tr>\n",
       "      <th>18</th>\n",
       "      <td>relationship_ Own-child</td>\n",
       "      <td>1</td>\n",
       "    </tr>\n",
       "    <tr>\n",
       "      <th>17</th>\n",
       "      <td>relationship_ Other-relative</td>\n",
       "      <td>1</td>\n",
       "    </tr>\n",
       "    <tr>\n",
       "      <th>15</th>\n",
       "      <td>relationship_ Husband</td>\n",
       "      <td>1</td>\n",
       "    </tr>\n",
       "    <tr>\n",
       "      <th>13</th>\n",
       "      <td>workclass_others</td>\n",
       "      <td>1</td>\n",
       "    </tr>\n",
       "    <tr>\n",
       "      <th>9</th>\n",
       "      <td>hours-per-week</td>\n",
       "      <td>1</td>\n",
       "    </tr>\n",
       "    <tr>\n",
       "      <th>20</th>\n",
       "      <td>relationship_ Wife</td>\n",
       "      <td>1</td>\n",
       "    </tr>\n",
       "    <tr>\n",
       "      <th>4</th>\n",
       "      <td>occupation</td>\n",
       "      <td>1</td>\n",
       "    </tr>\n",
       "    <tr>\n",
       "      <th>3</th>\n",
       "      <td>marital-status</td>\n",
       "      <td>1</td>\n",
       "    </tr>\n",
       "    <tr>\n",
       "      <th>6</th>\n",
       "      <td>sex</td>\n",
       "      <td>1</td>\n",
       "    </tr>\n",
       "    <tr>\n",
       "      <th>2</th>\n",
       "      <td>education-num</td>\n",
       "      <td>2</td>\n",
       "    </tr>\n",
       "    <tr>\n",
       "      <th>10</th>\n",
       "      <td>native-country</td>\n",
       "      <td>3</td>\n",
       "    </tr>\n",
       "    <tr>\n",
       "      <th>12</th>\n",
       "      <td>workclass_gov</td>\n",
       "      <td>4</td>\n",
       "    </tr>\n",
       "    <tr>\n",
       "      <th>11</th>\n",
       "      <td>workclass_Private</td>\n",
       "      <td>5</td>\n",
       "    </tr>\n",
       "    <tr>\n",
       "      <th>14</th>\n",
       "      <td>workclass_selfempl</td>\n",
       "      <td>6</td>\n",
       "    </tr>\n",
       "    <tr>\n",
       "      <th>19</th>\n",
       "      <td>relationship_ Unmarried</td>\n",
       "      <td>7</td>\n",
       "    </tr>\n",
       "    <tr>\n",
       "      <th>16</th>\n",
       "      <td>relationship_ Not-in-family</td>\n",
       "      <td>8</td>\n",
       "    </tr>\n",
       "    <tr>\n",
       "      <th>5</th>\n",
       "      <td>race</td>\n",
       "      <td>9</td>\n",
       "    </tr>\n",
       "    <tr>\n",
       "      <th>8</th>\n",
       "      <td>capital-loss</td>\n",
       "      <td>10</td>\n",
       "    </tr>\n",
       "    <tr>\n",
       "      <th>7</th>\n",
       "      <td>capital-gain</td>\n",
       "      <td>11</td>\n",
       "    </tr>\n",
       "    <tr>\n",
       "      <th>1</th>\n",
       "      <td>fnlwgt</td>\n",
       "      <td>12</td>\n",
       "    </tr>\n",
       "  </tbody>\n",
       "</table>\n",
       "</div>"
      ],
      "text/plain": [
       "                         Feature  Ranking\n",
       "0                            age        1\n",
       "18       relationship_ Own-child        1\n",
       "17  relationship_ Other-relative        1\n",
       "15         relationship_ Husband        1\n",
       "13              workclass_others        1\n",
       "9                 hours-per-week        1\n",
       "20            relationship_ Wife        1\n",
       "4                     occupation        1\n",
       "3                 marital-status        1\n",
       "6                            sex        1\n",
       "2                  education-num        2\n",
       "10                native-country        3\n",
       "12                 workclass_gov        4\n",
       "11             workclass_Private        5\n",
       "14            workclass_selfempl        6\n",
       "19       relationship_ Unmarried        7\n",
       "16   relationship_ Not-in-family        8\n",
       "5                           race        9\n",
       "8                   capital-loss       10\n",
       "7                   capital-gain       11\n",
       "1                         fnlwgt       12"
      ]
     },
     "execution_count": 5,
     "metadata": {},
     "output_type": "execute_result"
    }
   ],
   "source": [
    "model = LogisticRegression(solver='lbfgs',max_iter=5000, random_state=0)\n",
    "rfe = RFE(model,step=1)\n",
    "fit = rfe.fit(X_train,y_train)\n",
    "print('Optimal number of features: {}'.format(rfe.n_features_))\n",
    "print(fit.support_)\n",
    "print(fit.ranking_)\n",
    "cols = rfe.get_support(indices=True)\n",
    "cols_names = list(X_train.columns[cols])\n",
    "cols\n",
    "selected_features = pd.DataFrame({'Feature':list(X_train.columns),'Ranking':rfe.ranking_})\n",
    "tabela = selected_features.sort_values(by='Ranking')\n",
    "tabela.to_latex()\n",
    "tabela"
   ]
  },
  {
   "cell_type": "markdown",
   "metadata": {},
   "source": [
    "## Embedded methods"
   ]
  },
  {
   "cell_type": "markdown",
   "metadata": {},
   "source": [
    "### Principal Component Analysis"
   ]
  },
  {
   "cell_type": "code",
   "execution_count": 6,
   "metadata": {},
   "outputs": [
    {
     "name": "stdout",
     "output_type": "stream",
     "text": [
      "[9.90435135e-01 9.54483595e-03 2.00282945e-05 5.88927030e-10\n",
      " 6.80909694e-11 4.06950846e-11 3.04007114e-11 2.34911629e-11\n",
      " 1.60073833e-11 1.38173897e-11 1.23285073e-11 1.03572695e-11\n",
      " 9.71851162e-12 6.73610605e-12 5.71120937e-12 4.22135527e-12\n",
      " 2.20138933e-12 5.58508122e-13 3.92330257e-14 5.60404743e-42\n",
      " 1.01975070e-42]\n"
     ]
    }
   ],
   "source": [
    "pca=PCA(random_state=0)\n",
    "fit=pca.fit(X_train)\n",
    "print(fit.explained_variance_ratio_)"
   ]
  },
  {
   "cell_type": "markdown",
   "metadata": {},
   "source": [
    "### Feature Importance"
   ]
  },
  {
   "cell_type": "code",
   "execution_count": 7,
   "metadata": {},
   "outputs": [
    {
     "name": "stdout",
     "output_type": "stream",
     "text": [
      "Feature ranking:\n",
      "1. feature 1 - fnlwgt (0.330851)\n",
      "2. feature 2 - education-num (0.115385)\n",
      "3. feature 3 - marital-status (0.097309)\n",
      "4. feature 15 - relationship_ Husband (0.065748)\n",
      "5. feature 7 - capital-gain (0.064775)\n",
      "6. feature 4 - occupation (0.064027)\n",
      "7. feature 0 - age (0.052612)\n",
      "8. feature 9 - hours-per-week (0.048835)\n",
      "9. feature 16 - relationship_ Not-in-family (0.030828)\n",
      "10. feature 18 - relationship_ Own-child (0.026898)\n",
      "11. feature 8 - capital-loss (0.021018)\n",
      "12. feature 20 - relationship_ Wife (0.017708)\n",
      "13. feature 6 - sex (0.015783)\n",
      "14. feature 5 - race (0.010138)\n",
      "15. feature 19 - relationship_ Unmarried (0.009578)\n",
      "16. feature 10 - native-country (0.009058)\n",
      "17. feature 11 - workclass_Private (0.006268)\n",
      "18. feature 14 - workclass_selfempl (0.004944)\n",
      "19. feature 12 - workclass_gov (0.004864)\n",
      "20. feature 17 - relationship_ Other-relative (0.003096)\n",
      "21. feature 13 - workclass_others (0.000276)\n"
     ]
    }
   ],
   "source": [
    "model = ExtraTreesClassifier(n_estimators=21, random_state=0)\n",
    "model.fit(X_train, y_train)\n",
    "importances = model.feature_importances_\n",
    "indices = np.argsort(importances)[::-1]\n",
    "print(\"Feature ranking:\")\n",
    "for f in range(X_train.shape[1]):\n",
    "    print(\"%d. feature %d - %s (%f)\" % (f + 1, indices[f], X_train.columns[indices[f]], importances[indices[f]]))"
   ]
  },
  {
   "cell_type": "markdown",
   "metadata": {},
   "source": [
    "## Drop irrelevant features"
   ]
  },
  {
   "cell_type": "code",
   "execution_count": 8,
   "metadata": {},
   "outputs": [],
   "source": [
    "X_train = X_train.drop(['fnlwgt', 'relationship_ Not-in-family', 'workclass_selfempl'],1)\n",
    "X_test = X_test.drop(['fnlwgt', 'relationship_ Not-in-family', 'workclass_selfempl'],1)"
   ]
  }
 ],
 "metadata": {
  "kernelspec": {
   "display_name": "Python 3",
   "language": "python",
   "name": "python3"
  },
  "language_info": {
   "codemirror_mode": {
    "name": "ipython",
    "version": 3
   },
   "file_extension": ".py",
   "mimetype": "text/x-python",
   "name": "python",
   "nbconvert_exporter": "python",
   "pygments_lexer": "ipython3",
   "version": "3.8.5"
  }
 },
 "nbformat": 4,
 "nbformat_minor": 4
}
