{
 "cells": [
  {
   "cell_type": "markdown",
   "metadata": {},
   "source": [
    "# Import Libraries"
   ]
  },
  {
   "cell_type": "code",
   "execution_count": 1,
   "metadata": {},
   "outputs": [],
   "source": [
    "import pandas as pd\n",
    "import numpy as np\n",
    "from sklearn.preprocessing import OrdinalEncoder\n",
    "from sklearn.feature_selection import VarianceThreshold, SelectKBest, f_classif\n",
    "from sklearn.ensemble import ExtraTreesClassifier\n",
    "from sklearn import preprocessing\n",
    "from sklearn.svm import SVC"
   ]
  },
  {
   "cell_type": "markdown",
   "metadata": {},
   "source": [
    "# Load train and test dataset"
   ]
  },
  {
   "cell_type": "code",
   "execution_count": 2,
   "metadata": {},
   "outputs": [],
   "source": [
    "training = pd.read_csv(\"training.csv\")\n",
    "columns = ['age','workclass','fnlgwt','education','education num','marital-status',\n",
    "           'occupation','relationship','race','sex','capital-gain','capital-loss',\n",
    "           'hours-per-week','native-country','salary-classification']\n",
    "training=pd.read_csv(\"training.csv\", names=columns)\n",
    "test=pd.read_csv(\"test.csv\", names=columns)"
   ]
  },
  {
   "cell_type": "markdown",
   "metadata": {},
   "source": [
    "# Remove unnecessary columns"
   ]
  },
  {
   "cell_type": "code",
   "execution_count": 3,
   "metadata": {},
   "outputs": [],
   "source": [
    "training = training.drop(\"education\", 1)\n",
    "test = test.drop(\"education\", 1)"
   ]
  },
  {
   "cell_type": "markdown",
   "metadata": {},
   "source": [
    "# Replace all '?' by NaN and drop rows containing the latter"
   ]
  },
  {
   "cell_type": "code",
   "execution_count": 4,
   "metadata": {},
   "outputs": [],
   "source": [
    "for data in training:\n",
    "    training[data].replace(' ?', np.nan, inplace=True)\n",
    "    \n",
    "for data in test:\n",
    "    test[data].replace(' ?', np.nan, inplace=True)\n",
    "\n",
    "training.dropna(inplace=True)\n",
    "test.dropna(inplace=True)"
   ]
  },
  {
   "cell_type": "markdown",
   "metadata": {},
   "source": [
    "# Turning non-numerical values into numerical"
   ]
  },
  {
   "cell_type": "code",
   "execution_count": 5,
   "metadata": {},
   "outputs": [],
   "source": [
    "ord_enc = OrdinalEncoder()\n",
    "for i in ['workclass','marital-status','occupation','relationship','race','sex','native-country','salary-classification']:\n",
    "    training[i] = ord_enc.fit_transform(training[[i]]).astype(int)\n",
    "    test[i] = ord_enc.fit_transform(test[[i]]).astype(int)"
   ]
  },
  {
   "cell_type": "code",
   "execution_count": 6,
   "metadata": {},
   "outputs": [],
   "source": [
    "X_train = training.drop('salary-classification',1)\n",
    "y_train = training['salary-classification']\n",
    "X_test = test.drop('salary-classification',1) \n",
    "y_test = test['salary-classification']\n",
    "train_target = training['salary-classification']\n",
    "train_data = training.drop('salary-classification',1)"
   ]
  },
  {
   "cell_type": "markdown",
   "metadata": {
    "scrolled": true
   },
   "source": [
    "# Filter Methods"
   ]
  },
  {
   "cell_type": "markdown",
   "metadata": {},
   "source": [
    "## Variance Threshold"
   ]
  },
  {
   "cell_type": "code",
   "execution_count": 7,
   "metadata": {},
   "outputs": [],
   "source": [
    "from sklearn.feature_selection import SelectKBest, f_classif\n",
    "import pandas as pd"
   ]
  },
  {
   "cell_type": "code",
   "execution_count": 8,
   "metadata": {},
   "outputs": [
    {
     "data": {
      "text/plain": [
       "array([7.30000000e+01, 9.09941854e-01, 1.47093600e+06, 6.50225850e+00,\n",
       "       2.24397640e+00, 1.30000000e+01, 2.56419912e+00, 6.96716725e-01,\n",
       "       2.19134909e-01, 9.99990000e+04, 4.35600000e+03, 9.80000000e+01,\n",
       "       3.72743370e+01])"
      ]
     },
     "execution_count": 8,
     "metadata": {},
     "output_type": "execute_result"
    }
   ],
   "source": [
    "selector = VarianceThreshold()\n",
    "selector.fit_transform(X_train)\n",
    "selector.variances_"
   ]
  },
  {
   "cell_type": "markdown",
   "metadata": {},
   "source": [
    "## SelectKBest"
   ]
  },
  {
   "cell_type": "code",
   "execution_count": 9,
   "metadata": {},
   "outputs": [
    {
     "name": "stdout",
     "output_type": "stream",
     "text": [
      "*** 0 age\n",
      "**  3 education num\n",
      "*   6 relationship\n",
      "0.7908366533864541\n"
     ]
    }
   ],
   "source": [
    "selector = SelectKBest(f_classif, k=3)\n",
    "selector.fit(X_train, y_train)\n",
    "cols = selector.get_support(indices=True)\n",
    "cols_names = list(X_train.columns[cols])\n",
    "\n",
    "for idx, (ci, cn) in enumerate(zip(cols, cols_names)):\n",
    "    print(\"*\" * (len(cols) - idx) + \" \" * idx, ci, cn)\n",
    "\n",
    "clf_model = SVC()\n",
    "\n",
    "clf_model.fit(X_train,y_train)\n",
    "score = clf_model.score(X_test,y_test)\n",
    "print(score)"
   ]
  },
  {
   "cell_type": "markdown",
   "metadata": {},
   "source": [
    "# Wrapper Methods"
   ]
  },
  {
   "cell_type": "markdown",
   "metadata": {},
   "source": [
    "## Recursive Feature Elimination"
   ]
  },
  {
   "cell_type": "code",
   "execution_count": 10,
   "metadata": {},
   "outputs": [],
   "source": [
    "from sklearn.feature_selection import RFE\n",
    "from sklearn.linear_model import LogisticRegression"
   ]
  },
  {
   "cell_type": "code",
   "execution_count": 32,
   "metadata": {
    "scrolled": true
   },
   "outputs": [
    {
     "name": "stdout",
     "output_type": "stream",
     "text": [
      "Optimal number of features: 7\n",
      "[False  True False  True  True False  True  True  True False False False\n",
      " False  True]\n",
      "[2 1 8 1 1 6 1 1 1 7 5 3 4 1]\n"
     ]
    },
    {
     "data": {
      "text/html": [
       "<div>\n",
       "<style scoped>\n",
       "    .dataframe tbody tr th:only-of-type {\n",
       "        vertical-align: middle;\n",
       "    }\n",
       "\n",
       "    .dataframe tbody tr th {\n",
       "        vertical-align: top;\n",
       "    }\n",
       "\n",
       "    .dataframe thead th {\n",
       "        text-align: right;\n",
       "    }\n",
       "</style>\n",
       "<table border=\"1\" class=\"dataframe\">\n",
       "  <thead>\n",
       "    <tr style=\"text-align: right;\">\n",
       "      <th></th>\n",
       "      <th>Feature</th>\n",
       "      <th>Ranking</th>\n",
       "    </tr>\n",
       "  </thead>\n",
       "  <tbody>\n",
       "    <tr>\n",
       "      <th>1</th>\n",
       "      <td>workclass</td>\n",
       "      <td>1</td>\n",
       "    </tr>\n",
       "    <tr>\n",
       "      <th>3</th>\n",
       "      <td>education num</td>\n",
       "      <td>1</td>\n",
       "    </tr>\n",
       "    <tr>\n",
       "      <th>4</th>\n",
       "      <td>marital-status</td>\n",
       "      <td>1</td>\n",
       "    </tr>\n",
       "    <tr>\n",
       "      <th>6</th>\n",
       "      <td>relationship</td>\n",
       "      <td>1</td>\n",
       "    </tr>\n",
       "    <tr>\n",
       "      <th>7</th>\n",
       "      <td>race</td>\n",
       "      <td>1</td>\n",
       "    </tr>\n",
       "    <tr>\n",
       "      <th>8</th>\n",
       "      <td>sex</td>\n",
       "      <td>1</td>\n",
       "    </tr>\n",
       "    <tr>\n",
       "      <th>13</th>\n",
       "      <td>salary-classification</td>\n",
       "      <td>1</td>\n",
       "    </tr>\n",
       "    <tr>\n",
       "      <th>0</th>\n",
       "      <td>age</td>\n",
       "      <td>2</td>\n",
       "    </tr>\n",
       "    <tr>\n",
       "      <th>11</th>\n",
       "      <td>hours-per-week</td>\n",
       "      <td>3</td>\n",
       "    </tr>\n",
       "    <tr>\n",
       "      <th>12</th>\n",
       "      <td>native-country</td>\n",
       "      <td>4</td>\n",
       "    </tr>\n",
       "    <tr>\n",
       "      <th>10</th>\n",
       "      <td>capital-loss</td>\n",
       "      <td>5</td>\n",
       "    </tr>\n",
       "    <tr>\n",
       "      <th>5</th>\n",
       "      <td>occupation</td>\n",
       "      <td>6</td>\n",
       "    </tr>\n",
       "    <tr>\n",
       "      <th>9</th>\n",
       "      <td>capital-gain</td>\n",
       "      <td>7</td>\n",
       "    </tr>\n",
       "    <tr>\n",
       "      <th>2</th>\n",
       "      <td>fnlgwt</td>\n",
       "      <td>8</td>\n",
       "    </tr>\n",
       "  </tbody>\n",
       "</table>\n",
       "</div>"
      ],
      "text/plain": [
       "                  Feature  Ranking\n",
       "1               workclass        1\n",
       "3           education num        1\n",
       "4          marital-status        1\n",
       "6            relationship        1\n",
       "7                    race        1\n",
       "8                     sex        1\n",
       "13  salary-classification        1\n",
       "0                     age        2\n",
       "11         hours-per-week        3\n",
       "12         native-country        4\n",
       "10           capital-loss        5\n",
       "5              occupation        6\n",
       "9            capital-gain        7\n",
       "2                  fnlgwt        8"
      ]
     },
     "execution_count": 32,
     "metadata": {},
     "output_type": "execute_result"
    }
   ],
   "source": [
    "model = LogisticRegression(solver='lbfgs',max_iter=5000)\n",
    "rfe = RFE(model,step=1)\n",
    "fit = rfe.fit(training,train_target)\n",
    "print('Optimal number of features: {}'.format(rfe.n_features_))\n",
    "print(fit.support_)\n",
    "print(fit.ranking_)\n",
    "cols = rfe.get_support(indices=True)\n",
    "cols_names = list(training.columns[cols])\n",
    "cols\n",
    "selected_features = pd.DataFrame({'Feature':list(training.columns),'Ranking':rfe.ranking_})\n",
    "selected_features.sort_values(by='Ranking')"
   ]
  },
  {
   "cell_type": "markdown",
   "metadata": {},
   "source": [
    "# Embedded methods"
   ]
  },
  {
   "cell_type": "markdown",
   "metadata": {},
   "source": [
    "## Principal Component Analysis"
   ]
  },
  {
   "cell_type": "code",
   "execution_count": 12,
   "metadata": {},
   "outputs": [],
   "source": [
    "from sklearn.decomposition import PCA"
   ]
  },
  {
   "cell_type": "code",
   "execution_count": 13,
   "metadata": {},
   "outputs": [
    {
     "name": "stdout",
     "output_type": "stream",
     "text": [
      "[9.95095391e-01 4.89001984e-03 1.45550751e-05 1.57081135e-08\n",
      " 1.21494136e-08 3.31342302e-09 1.45294851e-09 5.43252921e-10\n",
      " 2.14460071e-10 1.71928522e-10 8.03390640e-11 5.95177689e-11\n",
      " 1.20979930e-11]\n"
     ]
    }
   ],
   "source": [
    "pca=PCA()\n",
    "fit=pca.fit(train_data)\n",
    "print(fit.explained_variance_ratio_)"
   ]
  },
  {
   "cell_type": "markdown",
   "metadata": {},
   "source": [
    "## Feature Importance"
   ]
  },
  {
   "cell_type": "code",
   "execution_count": 14,
   "metadata": {},
   "outputs": [],
   "source": [
    "from sklearn.ensemble import ExtraTreesClassifier"
   ]
  },
  {
   "cell_type": "code",
   "execution_count": 16,
   "metadata": {},
   "outputs": [
    {
     "name": "stdout",
     "output_type": "stream",
     "text": [
      "Feature ranking:\n",
      "1. feature 2 - fnlgwt (0.164596)\n",
      "2. feature 0 - age (0.151930)\n",
      "3. feature 3 - education num (0.128076)\n",
      "4. feature 11 - hours-per-week (0.095413)\n",
      "5. feature 6 - relationship (0.095317)\n",
      "6. feature 9 - capital-gain (0.091756)\n",
      "7. feature 5 - occupation (0.077219)\n",
      "8. feature 4 - marital-status (0.064008)\n",
      "9. feature 1 - workclass (0.041455)\n",
      "10. feature 8 - sex (0.030236)\n",
      "11. feature 10 - capital-loss (0.028553)\n",
      "12. feature 12 - native-country (0.015853)\n",
      "13. feature 7 - race (0.015588)\n"
     ]
    }
   ],
   "source": [
    "model = ExtraTreesClassifier(n_estimators=13)\n",
    "model.fit(train_data, train_target)\n",
    "model.feature_importances_\n",
    "importances = model.feature_importances_\n",
    "indices = np.argsort(importances)[::-1]\n",
    "print(\"Feature ranking:\")\n",
    "for f in range(train_data.shape[1]):\n",
    "    print(\"%d. feature %d - %s (%f)\" % (f+1, indices[f], train_data.columns[indices[f]], importances[indices[f]]))"
   ]
  },
  {
   "cell_type": "code",
   "execution_count": null,
   "metadata": {},
   "outputs": [],
   "source": []
  }
 ],
 "metadata": {
  "kernelspec": {
   "display_name": "Python 3",
   "language": "python",
   "name": "python3"
  },
  "language_info": {
   "codemirror_mode": {
    "name": "ipython",
    "version": 3
   },
   "file_extension": ".py",
   "mimetype": "text/x-python",
   "name": "python",
   "nbconvert_exporter": "python",
   "pygments_lexer": "ipython3",
   "version": "3.8.3"
  }
 },
 "nbformat": 4,
 "nbformat_minor": 4
}
