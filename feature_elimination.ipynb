{
 "cells": [
  {
   "cell_type": "markdown",
   "metadata": {},
   "source": [
    "# Import libraries"
   ]
  },
  {
   "cell_type": "code",
   "execution_count": 1,
   "metadata": {},
   "outputs": [],
   "source": [
    "import pandas as pd\n",
    "import numpy as np\n",
    "from sklearn.preprocessing import OrdinalEncoder\n",
    "from sklearn.feature_selection import SelectKBest, f_classif\n",
    "from sklearn.neighbors import KNeighborsClassifier\n",
    "from sklearn.metrics import accuracy_score\n",
    "from sklearn import svm\n",
    "from sklearn.svm import SVC\n",
    "from sklearn.ensemble import AdaBoostClassifier, BaggingClassifier, StackingClassifier\n",
    "from sklearn.naive_bayes import GaussianNB\n",
    "from sklearn.linear_model import LogisticRegression\n",
    "from sklearn.cluster import KMeans\n",
    "from sklearn.metrics import classification_report"
   ]
  },
  {
   "cell_type": "markdown",
   "metadata": {},
   "source": [
    "# Load train and test dataset"
   ]
  },
  {
   "cell_type": "code",
   "execution_count": 2,
   "metadata": {},
   "outputs": [],
   "source": [
    "training = pd.read_csv(\"training.csv\")\n",
    "test = pd.read_csv(\"test.csv\")"
   ]
  },
  {
   "cell_type": "markdown",
   "metadata": {},
   "source": [
    "# Remove unnecessary columns"
   ]
  },
  {
   "cell_type": "code",
   "execution_count": 3,
   "metadata": {},
   "outputs": [],
   "source": [
    "training = training.drop(\"education\", 1)\n",
    "test = test.drop(\"education\", 1)\n",
    "training = training.drop(\"fnlwgt\", 1)\n",
    "test = test.drop(\"fnlwgt\", 1)\n",
    "training = training.drop(\"marital-status\", 1)\n",
    "test = test.drop(\"marital-status\", 1)\n",
    "training = training.drop(\"native-country\", 1)\n",
    "test = test.drop(\"native-country\", 1)"
   ]
  },
  {
   "cell_type": "markdown",
   "metadata": {},
   "source": [
    "# Replace all '?' by NaN and drop rows containing the latter"
   ]
  },
  {
   "cell_type": "code",
   "execution_count": 4,
   "metadata": {},
   "outputs": [],
   "source": [
    "for data in training:\n",
    "    training[data].replace(' ?', np.nan, inplace=True)\n",
    "    \n",
    "for data in test:\n",
    "    test[data].replace(' ?', np.nan, inplace=True)\n",
    "\n",
    "training.dropna(inplace=True)\n",
    "test.dropna(inplace=True)"
   ]
  },
  {
   "cell_type": "markdown",
   "metadata": {},
   "source": [
    "# Turning non-numerical values into numerical"
   ]
  },
  {
   "cell_type": "code",
   "execution_count": 5,
   "metadata": {},
   "outputs": [],
   "source": [
    "ord_enc = OrdinalEncoder()\n",
    "for i in ['workclass','occupation','relationship','race','sex','salary-classification']:\n",
    "    training[i] = ord_enc.fit_transform(training[[i]]).astype(int)\n",
    "    test[i] = ord_enc.fit_transform(test[[i]]).astype(int)"
   ]
  },
  {
   "cell_type": "code",
   "execution_count": 6,
   "metadata": {},
   "outputs": [],
   "source": [
    "X_train = training.drop('salary-classification',1)\n",
    "y_train = training['salary-classification']\n",
    "X_test = test.drop('salary-classification',1) \n",
    "y_test = test['salary-classification']"
   ]
  },
  {
   "cell_type": "markdown",
   "metadata": {},
   "source": [
    "## SVM"
   ]
  },
  {
   "cell_type": "code",
   "execution_count": 21,
   "metadata": {},
   "outputs": [],
   "source": [
    "def svm_classifier(X_train):\n",
    "    model = svm.SVC().fit(X_train,y_train)\n",
    "    predictions = model.predict(X_test)\n",
    "    df = pd.DataFrame({'actual':y_test,'predicted':predictions})\n",
    "    print(classification_report(df['actual'], df['predicted']))"
   ]
  },
  {
   "cell_type": "code",
   "execution_count": 22,
   "metadata": {},
   "outputs": [
    {
     "name": "stdout",
     "output_type": "stream",
     "text": [
      "SVM -> 0.79614757\n",
      "              precision    recall  f1-score   support\n",
      "\n",
      "           0       0.80      0.97      0.88     11543\n",
      "           1       0.74      0.27      0.39      3772\n",
      "\n",
      "    accuracy                           0.80     15315\n",
      "   macro avg       0.77      0.62      0.64     15315\n",
      "weighted avg       0.79      0.80      0.76     15315\n",
      "\n"
     ]
    }
   ],
   "source": [
    "svm_classifier(X_train)"
   ]
  },
  {
   "cell_type": "markdown",
   "metadata": {},
   "source": [
    "## KMeans"
   ]
  },
  {
   "cell_type": "code",
   "execution_count": 23,
   "metadata": {},
   "outputs": [],
   "source": [
    "def kmeans_classifier(X_train):\n",
    "    model = KMeans(n_clusters=1, random_state=0).fit(X_train,y_train)\n",
    "    predictions = model.predict(X_test)\n",
    "    df = pd.DataFrame({'actual':y_test,'predicted':predictions})\n",
    "    print(classification_report(df['actual'], df['predicted'],zero_division=1))"
   ]
  },
  {
   "cell_type": "code",
   "execution_count": 24,
   "metadata": {},
   "outputs": [
    {
     "name": "stdout",
     "output_type": "stream",
     "text": [
      "SVM -> 0.75370552\n",
      "              precision    recall  f1-score   support\n",
      "\n",
      "           0       0.75      1.00      0.86     11543\n",
      "           1       1.00      0.00      0.00      3772\n",
      "\n",
      "    accuracy                           0.75     15315\n",
      "   macro avg       0.88      0.50      0.43     15315\n",
      "weighted avg       0.81      0.75      0.65     15315\n",
      "\n"
     ]
    }
   ],
   "source": [
    "kmeans_classifier(X_train)"
   ]
  },
  {
   "cell_type": "markdown",
   "metadata": {},
   "source": [
    "## KNN"
   ]
  },
  {
   "cell_type": "code",
   "execution_count": 11,
   "metadata": {},
   "outputs": [],
   "source": [
    "def knn_classifier(X_train):\n",
    "    model = KNeighborsClassifier().fit(X_train,y_train)\n",
    "    predictions = model.predict(X_test)\n",
    "    df = pd.DataFrame({'actual':y_test,'predicted':predictions})\n",
    "    print(classification_report(df['actual'], df['predicted']))"
   ]
  },
  {
   "cell_type": "code",
   "execution_count": 12,
   "metadata": {},
   "outputs": [
    {
     "name": "stdout",
     "output_type": "stream",
     "text": [
      "              precision    recall  f1-score   support\n",
      "\n",
      "           0       0.88      0.91      0.89     11543\n",
      "           1       0.69      0.61      0.64      3772\n",
      "\n",
      "    accuracy                           0.84     15315\n",
      "   macro avg       0.78      0.76      0.77     15315\n",
      "weighted avg       0.83      0.84      0.83     15315\n",
      "\n"
     ]
    }
   ],
   "source": [
    "knn_classifier(X_train)"
   ]
  },
  {
   "cell_type": "markdown",
   "metadata": {},
   "source": [
    "## Naive Bayes"
   ]
  },
  {
   "cell_type": "code",
   "execution_count": 13,
   "metadata": {},
   "outputs": [],
   "source": [
    "def naivebayes_classifier(X_train):\n",
    "    model = GaussianNB().fit(X_train,y_train)\n",
    "    predictions = model.predict(X_test)\n",
    "    df = pd.DataFrame({'actual':y_test,'predicted':predictions})\n",
    "    print(classification_report(df['actual'], df['predicted']))"
   ]
  },
  {
   "cell_type": "code",
   "execution_count": 14,
   "metadata": {},
   "outputs": [
    {
     "name": "stdout",
     "output_type": "stream",
     "text": [
      "Naive Bayes -> 0.78994450\n",
      "              precision    recall  f1-score   support\n",
      "\n",
      "           0       0.81      0.95      0.87     11543\n",
      "           1       0.66      0.31      0.42      3772\n",
      "\n",
      "    accuracy                           0.79     15315\n",
      "   macro avg       0.73      0.63      0.65     15315\n",
      "weighted avg       0.77      0.79      0.76     15315\n",
      "\n"
     ]
    }
   ],
   "source": [
    "naivebayes_classifier(X_train)"
   ]
  },
  {
   "cell_type": "markdown",
   "metadata": {},
   "source": [
    "## AdaBoost"
   ]
  },
  {
   "cell_type": "code",
   "execution_count": 15,
   "metadata": {},
   "outputs": [],
   "source": [
    "def adaboost_classifier(X_train):\n",
    "    model = AdaBoostClassifier().fit(X_train,y_train)\n",
    "    predictions = model.predict(X_test)\n",
    "    df = pd.DataFrame({'actual':y_test,'predicted':predictions})\n",
    "    print(classification_report(df['actual'], df['predicted']))"
   ]
  },
  {
   "cell_type": "code",
   "execution_count": 16,
   "metadata": {},
   "outputs": [
    {
     "name": "stdout",
     "output_type": "stream",
     "text": [
      "AdaBoost -> 0.85510937\n",
      "              precision    recall  f1-score   support\n",
      "\n",
      "           0       0.88      0.94      0.91     11543\n",
      "           1       0.77      0.59      0.67      3772\n",
      "\n",
      "    accuracy                           0.86     15315\n",
      "   macro avg       0.82      0.77      0.79     15315\n",
      "weighted avg       0.85      0.86      0.85     15315\n",
      "\n"
     ]
    }
   ],
   "source": [
    "adaboost_classifier(X_train)"
   ]
  },
  {
   "cell_type": "markdown",
   "metadata": {},
   "source": [
    "## Bagging"
   ]
  },
  {
   "cell_type": "code",
   "execution_count": 17,
   "metadata": {},
   "outputs": [],
   "source": [
    "def bagging_classifier(X_train):\n",
    "    model = BaggingClassifier(base_estimator=SVC(),n_estimators=2, random_state=0).fit(X_train,y_train)\n",
    "    predictions = model.predict(X_test)\n",
    "    df = pd.DataFrame({'actual':y_test,'predicted':predictions})\n",
    "    print(classification_report(df['actual'], df['predicted']))"
   ]
  },
  {
   "cell_type": "code",
   "execution_count": 18,
   "metadata": {},
   "outputs": [
    {
     "name": "stdout",
     "output_type": "stream",
     "text": [
      "Bagging SVC -> 0.79614757\n",
      "              precision    recall  f1-score   support\n",
      "\n",
      "           0       0.80      0.97      0.88     11543\n",
      "           1       0.74      0.27      0.39      3772\n",
      "\n",
      "    accuracy                           0.80     15315\n",
      "   macro avg       0.77      0.62      0.64     15315\n",
      "weighted avg       0.79      0.80      0.76     15315\n",
      "\n"
     ]
    }
   ],
   "source": [
    "bagging_classifier(X_train)"
   ]
  },
  {
   "cell_type": "markdown",
   "metadata": {},
   "source": [
    "## Stacking"
   ]
  },
  {
   "cell_type": "code",
   "execution_count": 19,
   "metadata": {},
   "outputs": [],
   "source": [
    "def stacking_classifier(X_train):\n",
    "    model = StackingClassifier([('ab',AdaBoostClassifier()),('nb', GaussianNB())], final_estimator=LogisticRegression()).fit(X_train,y_train)\n",
    "    predictions = model.predict(X_test)\n",
    "    df = pd.DataFrame({'actual':y_test,'predicted':predictions})\n",
    "    print(classification_report(df['actual'], df['predicted']))"
   ]
  },
  {
   "cell_type": "code",
   "execution_count": 20,
   "metadata": {},
   "outputs": [
    {
     "name": "stdout",
     "output_type": "stream",
     "text": [
      "Stacking -> 0.80652955\n",
      "              precision    recall  f1-score   support\n",
      "\n",
      "           0       0.81      0.97      0.88     11543\n",
      "           1       0.77      0.31      0.44      3772\n",
      "\n",
      "    accuracy                           0.81     15315\n",
      "   macro avg       0.79      0.64      0.66     15315\n",
      "weighted avg       0.80      0.81      0.77     15315\n",
      "\n"
     ]
    }
   ],
   "source": [
    "stacking_classifier(X_train)"
   ]
  }
 ],
 "metadata": {
  "kernelspec": {
   "display_name": "Python 3",
   "language": "python",
   "name": "python3"
  },
  "language_info": {
   "codemirror_mode": {
    "name": "ipython",
    "version": 3
   },
   "file_extension": ".py",
   "mimetype": "text/x-python",
   "name": "python",
   "nbconvert_exporter": "python",
   "pygments_lexer": "ipython3",
   "version": "3.8.3"
  }
 },
 "nbformat": 4,
 "nbformat_minor": 4
}
