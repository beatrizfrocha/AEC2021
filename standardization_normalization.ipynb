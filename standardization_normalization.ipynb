{
 "cells": [
  {
   "cell_type": "markdown",
   "metadata": {},
   "source": [
    "# **Setup**"
   ]
  },
  {
   "cell_type": "markdown",
   "metadata": {},
   "source": [
    "## Import notebooks"
   ]
  },
  {
   "cell_type": "code",
   "execution_count": 17,
   "metadata": {},
   "outputs": [],
   "source": [
    "%%capture\n",
    "# Note the python import here\n",
    "import reuse, sys\n",
    "\n",
    "# This is the Ipython hook\n",
    "sys.meta_path.append(reuse.NotebookFinder())\n",
    "from visualization import training, test\n",
    "from feature_selection import X_train, y_train, X_test, y_test"
   ]
  },
  {
   "cell_type": "markdown",
   "metadata": {},
   "source": [
    "## Import libraries"
   ]
  },
  {
   "cell_type": "code",
   "execution_count": 18,
   "metadata": {},
   "outputs": [],
   "source": [
    "import pandas as pd\n",
    "\n",
    "from sklearn.neighbors import KNeighborsClassifier\n",
    "from sklearn.metrics import accuracy_score\n",
    "from sklearn import svm\n",
    "from sklearn.svm import SVC\n",
    "from sklearn.ensemble import AdaBoostClassifier, BaggingClassifier, StackingClassifier\n",
    "from sklearn.naive_bayes import GaussianNB\n",
    "from sklearn.linear_model import LogisticRegression\n",
    "from sklearn.cluster import KMeans\n",
    "from sklearn import preprocessing"
   ]
  },
  {
   "cell_type": "markdown",
   "metadata": {},
   "source": [
    "# SVM"
   ]
  },
  {
   "cell_type": "code",
   "execution_count": 4,
   "metadata": {},
   "outputs": [
    {
     "name": "stdout",
     "output_type": "stream",
     "text": [
      "SVM -> 0.79641434\n"
     ]
    }
   ],
   "source": [
    "#def svm_classifier(X_train):\n",
    "model = svm.SVC().fit(X_train,y_train)\n",
    "predictions = model.predict(X_test)\n",
    "df = pd.DataFrame({'actual':y_test,'predicted':predictions})\n",
    "result = accuracy_score(df['actual'],df['predicted'])\n",
    "print(\"SVM -> %0.8f\" % result)"
   ]
  },
  {
   "cell_type": "markdown",
   "metadata": {},
   "source": [
    "# KMeans"
   ]
  },
  {
   "cell_type": "code",
   "execution_count": 25,
   "metadata": {},
   "outputs": [
    {
     "name": "stdout",
     "output_type": "stream",
     "text": [
      "KMeans -> 0.75770252\n"
     ]
    }
   ],
   "source": [
    "#def kmeans_classifier(X_train):\n",
    "model = KMeans(n_clusters=2, random_state=0).fit(X_train,y_train)\n",
    "predictions = model.predict(X_test)\n",
    "df = pd.DataFrame({'actual':y_test,'predicted':predictions})\n",
    "result = accuracy_score(df['actual'],df['predicted'])\n",
    "print(\"KMeans -> %0.8f\" % result)"
   ]
  },
  {
   "cell_type": "markdown",
   "metadata": {},
   "source": [
    "# KNN"
   ]
  },
  {
   "cell_type": "code",
   "execution_count": 6,
   "metadata": {},
   "outputs": [
    {
     "name": "stdout",
     "output_type": "stream",
     "text": [
      "KNN -> 0.85212483\n"
     ]
    }
   ],
   "source": [
    "#def knn_classifier(X_train):\n",
    "model = KNeighborsClassifier().fit(X_train,y_train)\n",
    "predictions = model.predict(X_test)\n",
    "df = pd.DataFrame({'actual':y_test,'predicted':predictions})\n",
    "result = accuracy_score(df['actual'],df['predicted'])\n",
    "print(\"KNN -> %0.8f\" % result)"
   ]
  },
  {
   "cell_type": "markdown",
   "metadata": {},
   "source": [
    "# Naive Bayes"
   ]
  },
  {
   "cell_type": "code",
   "execution_count": 7,
   "metadata": {},
   "outputs": [
    {
     "name": "stdout",
     "output_type": "stream",
     "text": [
      "Naive Bayes -> 0.81985392\n"
     ]
    }
   ],
   "source": [
    "#def naivebayes_classifier(X_train):\n",
    "model = GaussianNB().fit(X_train,y_train)\n",
    "predictions = model.predict(X_test)\n",
    "df = pd.DataFrame({'actual':y_test,'predicted':predictions})\n",
    "result = accuracy_score(df['actual'],df['predicted'])\n",
    "print(\"Naive Bayes -> %0.8f\" % result)"
   ]
  },
  {
   "cell_type": "markdown",
   "metadata": {},
   "source": [
    "# AdaBoost"
   ]
  },
  {
   "cell_type": "code",
   "execution_count": 8,
   "metadata": {},
   "outputs": [
    {
     "name": "stdout",
     "output_type": "stream",
     "text": [
      "AdaBoost -> 0.85424967\n"
     ]
    }
   ],
   "source": [
    "#def adaboost_classifier(X_train):\n",
    "model = AdaBoostClassifier().fit(X_train,y_train)\n",
    "predictions = model.predict(X_test)\n",
    "df = pd.DataFrame({'actual':y_test,'predicted':predictions})\n",
    "result = accuracy_score(df['actual'],df['predicted'])\n",
    "print(\"AdaBoost -> %0.8f\" % result)  "
   ]
  },
  {
   "cell_type": "markdown",
   "metadata": {},
   "source": [
    "# Bagging"
   ]
  },
  {
   "cell_type": "code",
   "execution_count": 9,
   "metadata": {},
   "outputs": [
    {
     "name": "stdout",
     "output_type": "stream",
     "text": [
      "Bagging SVC -> 0.79641434\n"
     ]
    }
   ],
   "source": [
    "#def bagging_classifier(X_train):\n",
    "model = BaggingClassifier(base_estimator=SVC(),n_estimators=2, random_state=0).fit(X_train,y_train)\n",
    "predictions = model.predict(X_test)\n",
    "df = pd.DataFrame({'actual':y_test,'predicted':predictions})\n",
    "result = accuracy_score(df['actual'],df['predicted'])\n",
    "print(\"Bagging SVC -> %0.8f\" % result)  "
   ]
  },
  {
   "cell_type": "markdown",
   "metadata": {},
   "source": [
    "# Stacking"
   ]
  },
  {
   "cell_type": "code",
   "execution_count": 10,
   "metadata": {},
   "outputs": [
    {
     "name": "stdout",
     "output_type": "stream",
     "text": [
      "Stacking -> 0.82217795\n"
     ]
    }
   ],
   "source": [
    "#def stacking_classifier(X_train):\n",
    "model = StackingClassifier([('ab',AdaBoostClassifier()),('nb', GaussianNB())], final_estimator=LogisticRegression()).fit(X_train,y_train)\n",
    "predictions = model.predict(X_test)\n",
    "df = pd.DataFrame({'actual':y_test,'predicted':predictions})\n",
    "result = accuracy_score(df['actual'],df['predicted'])\n",
    "print(\"Stacking -> %0.8f\" % result)  "
   ]
  }
 ],
 "metadata": {
  "kernelspec": {
   "display_name": "Python 3",
   "language": "python",
   "name": "python3"
  },
  "language_info": {
   "codemirror_mode": {
    "name": "ipython",
    "version": 3
   },
   "file_extension": ".py",
   "mimetype": "text/x-python",
   "name": "python",
   "nbconvert_exporter": "python",
   "pygments_lexer": "ipython3",
   "version": "3.8.5"
  }
 },
 "nbformat": 4,
 "nbformat_minor": 4
}
