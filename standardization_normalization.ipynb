{
 "cells": [
  {
   "cell_type": "markdown",
   "metadata": {},
   "source": [
    "# Import libraries"
   ]
  },
  {
   "cell_type": "code",
   "execution_count": 49,
   "metadata": {},
   "outputs": [],
   "source": [
    "import pandas as pd\n",
    "import numpy as np\n",
    "from sklearn.preprocessing import OrdinalEncoder\n",
    "from sklearn.feature_selection import SelectKBest, f_classif\n",
    "from sklearn.neighbors import KNeighborsClassifier\n",
    "from sklearn.metrics import accuracy_score\n",
    "from sklearn import svm\n",
    "from sklearn.svm import SVC\n",
    "from sklearn.ensemble import AdaBoostClassifier, BaggingClassifier, StackingClassifier\n",
    "from sklearn.naive_bayes import GaussianNB\n",
    "from sklearn.linear_model import LogisticRegression\n",
    "from sklearn.cluster import KMeans\n",
    "from sklearn import preprocessing"
   ]
  },
  {
   "cell_type": "markdown",
   "metadata": {},
   "source": [
    "# Load train and test dataset"
   ]
  },
  {
   "cell_type": "code",
   "execution_count": 2,
   "metadata": {},
   "outputs": [],
   "source": [
    "training = pd.read_csv(\"training.csv\")\n",
    "test = pd.read_csv(\"test.csv\")"
   ]
  },
  {
   "cell_type": "markdown",
   "metadata": {},
   "source": [
    "# Remove unnecessary columns"
   ]
  },
  {
   "cell_type": "code",
   "execution_count": 3,
   "metadata": {},
   "outputs": [],
   "source": [
    "training = training.drop(\"education\", 1)\n",
    "test = test.drop(\"education\", 1)"
   ]
  },
  {
   "cell_type": "markdown",
   "metadata": {},
   "source": [
    "# Replace all '?' by NaN and drop rows containing the latter"
   ]
  },
  {
   "cell_type": "code",
   "execution_count": 4,
   "metadata": {},
   "outputs": [],
   "source": [
    "for data in training:\n",
    "    training[data].replace(' ?', np.nan, inplace=True)\n",
    "    \n",
    "for data in test:\n",
    "    test[data].replace(' ?', np.nan, inplace=True)\n",
    "\n",
    "training.dropna(inplace=True)\n",
    "test.dropna(inplace=True)"
   ]
  },
  {
   "cell_type": "markdown",
   "metadata": {},
   "source": [
    "# Turning non-numerical values into numerical"
   ]
  },
  {
   "cell_type": "code",
   "execution_count": 5,
   "metadata": {},
   "outputs": [],
   "source": [
    "ord_enc = OrdinalEncoder()\n",
    "for i in ['workclass','marital-status','occupation','relationship','race','sex','native-country','salary-classification']:\n",
    "    training[i] = ord_enc.fit_transform(training[[i]]).astype(int)\n",
    "    test[i] = ord_enc.fit_transform(test[[i]]).astype(int)"
   ]
  },
  {
   "cell_type": "code",
   "execution_count": 6,
   "metadata": {},
   "outputs": [],
   "source": [
    "X_train = training.drop('salary-classification',1)\n",
    "y_train = training['salary-classification']\n",
    "X_test = test.drop('salary-classification',1) \n",
    "y_test = test['salary-classification']"
   ]
  },
  {
   "cell_type": "markdown",
   "metadata": {},
   "source": [
    "# SelectKBest"
   ]
  },
  {
   "cell_type": "code",
   "execution_count": 7,
   "metadata": {},
   "outputs": [],
   "source": [
    "selector = SelectKBest(f_classif, k=13)\n",
    "selector.fit(X_train,y_train)\n",
    "cols = selector.get_support(indices=True)\n",
    "cols_names = list(X_train.columns[cols])\n",
    "X_train = X_train[cols_names]\n",
    "X_test = X_test[cols_names] "
   ]
  },
  {
   "cell_type": "markdown",
   "metadata": {},
   "source": [
    "# SVM"
   ]
  },
  {
   "cell_type": "code",
   "execution_count": 36,
   "metadata": {},
   "outputs": [],
   "source": [
    "def svm_classifier(X_train):\n",
    "    model = svm.SVC().fit(X_train,y_train)\n",
    "    predictions = model.predict(X_test)\n",
    "    df = pd.DataFrame({'actual':y_test,'predicted':predictions})\n",
    "    result = accuracy_score(df['actual'],df['predicted'])\n",
    "    print(\"SVM -> %0.8f\" % result)"
   ]
  },
  {
   "cell_type": "markdown",
   "metadata": {},
   "source": [
    "# KMeans"
   ]
  },
  {
   "cell_type": "code",
   "execution_count": 11,
   "metadata": {},
   "outputs": [],
   "source": [
    "def kmeans_classifier(X_train):\n",
    "    model = KMeans(n_clusters=1, random_state=0).fit(X_train,y_train)\n",
    "    predictions = model.predict(X_test)\n",
    "    df = pd.DataFrame({'actual':y_test,'predicted':predictions})\n",
    "    result = accuracy_score(df['actual'],df['predicted'])\n",
    "    print(\"KMeans -> %0.8f\" % result)"
   ]
  },
  {
   "cell_type": "markdown",
   "metadata": {},
   "source": [
    "# KNN"
   ]
  },
  {
   "cell_type": "code",
   "execution_count": 12,
   "metadata": {},
   "outputs": [],
   "source": [
    "def knn_classifier(X_train):\n",
    "    model = KNeighborsClassifier().fit(X_train,y_train)\n",
    "    predictions = model.predict(X_test)\n",
    "    df = pd.DataFrame({'actual':y_test,'predicted':predictions})\n",
    "    result = accuracy_score(df['actual'],df['predicted'])\n",
    "    print(\"KNN -> %0.8f\" % result)"
   ]
  },
  {
   "cell_type": "markdown",
   "metadata": {},
   "source": [
    "# Naive Bayes"
   ]
  },
  {
   "cell_type": "code",
   "execution_count": 13,
   "metadata": {},
   "outputs": [],
   "source": [
    "def naivebayes_classifier(X_train):\n",
    "    model = GaussianNB().fit(X_train,y_train)\n",
    "    predictions = model.predict(X_test)\n",
    "    df = pd.DataFrame({'actual':y_test,'predicted':predictions})\n",
    "    result = accuracy_score(df['actual'],df['predicted'])\n",
    "    print(\"Naive Bayes -> %0.8f\" % result)"
   ]
  },
  {
   "cell_type": "markdown",
   "metadata": {},
   "source": [
    "# AdaBoost"
   ]
  },
  {
   "cell_type": "code",
   "execution_count": 17,
   "metadata": {},
   "outputs": [],
   "source": [
    "def adaboost_classifier(X_train):\n",
    "    model = AdaBoostClassifier().fit(X_train,y_train)\n",
    "    predictions = model.predict(X_test)\n",
    "    df = pd.DataFrame({'actual':y_test,'predicted':predictions})\n",
    "    result = accuracy_score(df['actual'],df['predicted'])\n",
    "    print(\"AdaBoost -> %0.8f\" % result)  "
   ]
  },
  {
   "cell_type": "markdown",
   "metadata": {},
   "source": [
    "# Bagging"
   ]
  },
  {
   "cell_type": "code",
   "execution_count": 42,
   "metadata": {},
   "outputs": [],
   "source": [
    "def bagging_classifier(X_train):\n",
    "    model = BaggingClassifier(base_estimator=SVC(),n_estimators=2, random_state=0).fit(X_train,y_train)\n",
    "    predictions = model.predict(X_test)\n",
    "    df = pd.DataFrame({'actual':y_test,'predicted':predictions})\n",
    "    result = accuracy_score(df['actual'],df['predicted'])\n",
    "    print(\"Bagging SVC -> %0.8f\" % result)  "
   ]
  },
  {
   "cell_type": "markdown",
   "metadata": {},
   "source": [
    "# Stacking"
   ]
  },
  {
   "cell_type": "code",
   "execution_count": 54,
   "metadata": {},
   "outputs": [],
   "source": [
    "def stacking_classifier(X_train):\n",
    "    model = StackingClassifier([('ab',AdaBoostClassifier()),('nb', GaussianNB())], final_estimator=LogisticRegression()).fit(X_train,y_train)\n",
    "    predictions = model.predict(X_test)\n",
    "    df = pd.DataFrame({'actual':y_test,'predicted':predictions})\n",
    "    result = accuracy_score(df['actual'],df['predicted'])\n",
    "    print(\"Stacking -> %0.8f\" % result)  "
   ]
  },
  {
   "cell_type": "markdown",
   "metadata": {},
   "source": [
    "# Normalization"
   ]
  },
  {
   "cell_type": "code",
   "execution_count": 67,
   "metadata": {},
   "outputs": [
    {
     "name": "stdout",
     "output_type": "stream",
     "text": [
      "---------Normalization l1---------\n",
      "KMeans -> 0.75431607\n",
      "KNN -> 0.74276228\n",
      "Naive Bayes -> 0.78984064\n",
      "AdaBoost -> 0.80670651\n",
      "SVM -> 0.76102258\n",
      "Bagging SVC -> 0.78512616\n",
      "Stacking -> 0.79077025\n"
     ]
    }
   ],
   "source": [
    "normalizer = preprocessing.Normalizer(norm='l1') \n",
    "values_normalized = normalizer.transform(X_train.values)\n",
    "data_normalized = pd.DataFrame(values_normalized, columns=X_train.columns)\n",
    "values_normalized = normalizer.transform(X_test.values)\n",
    "X_test = pd.DataFrame(values_normalized, columns=X_test.columns)\n",
    "print(\"---------Normalization l1---------\")\n",
    "svm_classifier(data_normalized)\n",
    "kmeans_classifier(data_normalized)\n",
    "knn_classifier(data_normalized)\n",
    "naivebayes_classifier(data_normalized)\n",
    "adaboost_classifier(data_normalized)\n",
    "bagging_classifier(data_normalized)\n",
    "stacking_classifier(data_normalized)"
   ]
  },
  {
   "cell_type": "code",
   "execution_count": 66,
   "metadata": {},
   "outputs": [
    {
     "name": "stdout",
     "output_type": "stream",
     "text": [
      "---------Normalization---------\n",
      "KMeans -> 0.75431607\n",
      "KNN -> 0.74203187\n",
      "Naive Bayes -> 0.79169987\n",
      "AdaBoost -> 0.80239044\n",
      "SVM -> 0.76102258\n",
      "Bagging SVC -> 0.78187251\n",
      "Stacking -> 0.79203187\n"
     ]
    }
   ],
   "source": [
    "normalizer = preprocessing.Normalizer(norm='l2') \n",
    "values_normalized = normalizer.transform(X_train.values)\n",
    "data_normalized = pd.DataFrame(values_normalized, columns=X_train.columns)\n",
    "values_normalized = normalizer.transform(X_test.values)\n",
    "X_test = pd.DataFrame(values_normalized, columns=X_test.columns)\n",
    "print(\"---------Normalization l2---------\")\n",
    "svm_classifier(data_normalized)\n",
    "kmeans_classifier(data_normalized)\n",
    "knn_classifier(data_normalized)\n",
    "naivebayes_classifier(data_normalized)\n",
    "adaboost_classifier(data_normalized)\n",
    "bagging_classifier(data_normalized)\n",
    "stacking_classifier(data_normalized)"
   ]
  },
  {
   "cell_type": "markdown",
   "metadata": {},
   "source": [
    "# Standardization"
   ]
  },
  {
   "cell_type": "code",
   "execution_count": 56,
   "metadata": {},
   "outputs": [
    {
     "name": "stdout",
     "output_type": "stream",
     "text": [
      "--------Standardization--------\n",
      "KMeans -> 0.75431607\n",
      "KNN -> 0.76009296\n",
      "Naive Bayes -> 0.79223108\n",
      "AdaBoost -> 0.78645418\n",
      "SVM -> 0.76102258\n",
      "Bagging SVC -> 0.77470120\n",
      "Stacking -> 0.78877822\n"
     ]
    }
   ],
   "source": [
    "scaler = preprocessing.MinMaxScaler(feature_range=(0, 1))\n",
    "values_standardized = scaler.fit_transform(X_train)\n",
    "X_train = pd.DataFrame(values_standardized, columns=X_train.columns);\n",
    "values_standardized = scaler.fit_transform(X_test)\n",
    "X_test = pd.DataFrame(values_standardized, columns=X_test.columns);\n",
    "print(\"--------Standardization--------\")\n",
    "svm_classifier(X_train)\n",
    "kmeans_classifier(X_train)\n",
    "knn_classifier(X_train)\n",
    "naivebayes_classifier(X_train)\n",
    "adaboost_classifier(X_train)\n",
    "bagging_classifier(X_train)\n",
    "stacking_classifier(X_train)"
   ]
  }
 ],
 "metadata": {
  "kernelspec": {
   "display_name": "Python 3",
   "language": "python",
   "name": "python3"
  },
  "language_info": {
   "codemirror_mode": {
    "name": "ipython",
    "version": 3
   },
   "file_extension": ".py",
   "mimetype": "text/x-python",
   "name": "python",
   "nbconvert_exporter": "python",
   "pygments_lexer": "ipython3",
   "version": "3.8.3"
  }
 },
 "nbformat": 4,
 "nbformat_minor": 4
}
