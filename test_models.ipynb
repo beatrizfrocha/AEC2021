{
 "cells": [
  {
   "cell_type": "markdown",
   "metadata": {},
   "source": [
    "# **Setup**"
   ]
  },
  {
   "cell_type": "markdown",
   "metadata": {},
   "source": [
    "## Import notebooks"
   ]
  },
  {
   "cell_type": "code",
   "execution_count": 1,
   "metadata": {},
   "outputs": [],
   "source": [
    "%%capture\n",
    "# Note the python import here\n",
    "import reuse, sys\n",
    "\n",
    "# This is the Ipython hook\n",
    "sys.meta_path.append(reuse.NotebookFinder())\n",
    "from feature_selection import X_train, y_train, X_test, y_test"
   ]
  },
  {
   "cell_type": "markdown",
   "metadata": {},
   "source": [
    "## Import libraries"
   ]
  },
  {
   "cell_type": "code",
   "execution_count": 2,
   "metadata": {},
   "outputs": [],
   "source": [
    "import pandas as pd\n",
    "import numpy as np\n",
    "\n",
    "from sklearn.neighbors import KNeighborsClassifier\n",
    "from sklearn.metrics import accuracy_score\n",
    "from sklearn import svm\n",
    "from sklearn.svm import SVC\n",
    "from sklearn.ensemble import AdaBoostClassifier, BaggingClassifier, StackingClassifier\n",
    "from sklearn.naive_bayes import GaussianNB\n",
    "from sklearn.linear_model import LogisticRegression\n",
    "from sklearn.cluster import KMeans\n",
    "from sklearn import preprocessing\n",
    "from sklearn.metrics import classification_report"
   ]
  },
  {
   "cell_type": "markdown",
   "metadata": {},
   "source": [
    "# **Test models**"
   ]
  },
  {
   "cell_type": "markdown",
   "metadata": {},
   "source": [
    "## SVM"
   ]
  },
  {
   "cell_type": "code",
   "execution_count": 3,
   "metadata": {},
   "outputs": [],
   "source": [
    "#model = svm.SVC(random_state=0).fit(X_train,y_train)\n",
    "#predictions = model.predict(X_test)\n",
    "#df = pd.DataFrame({'actual':y_test,'predicted':predictions})\n",
    "#result = classification_report(df['actual'],df['predicted'])\n",
    "#print(f\"SVM\\n{result}\")"
   ]
  },
  {
   "cell_type": "markdown",
   "metadata": {},
   "source": [
    "## KNN"
   ]
  },
  {
   "cell_type": "code",
   "execution_count": 4,
   "metadata": {},
   "outputs": [
    {
     "data": {
      "text/plain": [
       "'np.random.seed(0)\\nmodel = KNeighborsClassifier(n_neighbors=2).fit(X_train,y_train)\\npredictions = model.predict(X_test)\\ndf = pd.DataFrame({\\'actual\\':y_test,\\'predicted\\':predictions})\\nresult = classification_report(df[\\'actual\\'],df[\\'predicted\\'])\\nprint(f\"KNN\\n{result}\")'"
      ]
     },
     "execution_count": 4,
     "metadata": {},
     "output_type": "execute_result"
    }
   ],
   "source": [
    "\"\"\"np.random.seed(0)\n",
    "model = KNeighborsClassifier().fit(X_train,y_train)\n",
    "predictions = model.predict(X_test)\n",
    "df = pd.DataFrame({'actual':y_test,'predicted':predictions})\n",
    "result = classification_report(df['actual'],df['predicted'])\n",
    "print(f\"KNN\\n{result}\")\"\"\""
   ]
  },
  {
   "cell_type": "markdown",
   "metadata": {},
   "source": [
    "## Naive Bayes"
   ]
  },
  {
   "cell_type": "code",
   "execution_count": 5,
   "metadata": {},
   "outputs": [],
   "source": [
    "#model = GaussianNB().fit(X_train,y_train)\n",
    "#predictions = model.predict(X_test)\n",
    "#df = pd.DataFrame({'actual':y_test,'predicted':predictions})\n",
    "#result = classification_report(df['actual'],df['predicted'])\n",
    "#print(f\"Naive Bayes\\n{result}\")"
   ]
  },
  {
   "cell_type": "markdown",
   "metadata": {},
   "source": [
    "## AdaBoost"
   ]
  },
  {
   "cell_type": "code",
   "execution_count": 6,
   "metadata": {},
   "outputs": [],
   "source": [
    "#model = AdaBoostClassifier(random_state=0).fit(X_train,y_train)\n",
    "#predictions = model.predict(X_test)\n",
    "#df = pd.DataFrame({'actual':y_test,'predicted':predictions})\n",
    "#result = classification_report(df['actual'],df['predicted'])\n",
    "#print(f\"Adaboost\\n{result}\")"
   ]
  },
  {
   "cell_type": "markdown",
   "metadata": {},
   "source": [
    "## Bagging"
   ]
  },
  {
   "cell_type": "code",
   "execution_count": 7,
   "metadata": {},
   "outputs": [],
   "source": [
    "#model = BaggingClassifier(base_estimator=SVC(),n_estimators=2, random_state=0).fit(X_train,y_train)\n",
    "#predictions = model.predict(X_test)\n",
    "#df = pd.DataFrame({'actual':y_test,'predicted':predictions})\n",
    "#result = classification_report(df['actual'],df['predicted'])\n",
    "#print(f\"Bagging\\n{result}\")"
   ]
  },
  {
   "cell_type": "markdown",
   "metadata": {},
   "source": [
    "## Stacking"
   ]
  },
  {
   "cell_type": "code",
   "execution_count": 8,
   "metadata": {},
   "outputs": [],
   "source": [
    "#model = StackingClassifier([('ab',AdaBoostClassifier(random_state=0)),('nb', GaussianNB())], final_estimator=LogisticRegression(random_state=0)).fit(X_train,y_train)\n",
    "#predictions = model.predict(X_test)\n",
    "#df = pd.DataFrame({'actual':y_test,'predicted':predictions})\n",
    "#result = classification_report(df['actual'],df['predicted'])\n",
    "#print(f\"Stacking\\n{result}\") "
   ]
  }
 ],
 "metadata": {
  "kernelspec": {
   "display_name": "Python 3",
   "language": "python",
   "name": "python3"
  },
  "language_info": {
   "codemirror_mode": {
    "name": "ipython",
    "version": 3
   },
   "file_extension": ".py",
   "mimetype": "text/x-python",
   "name": "python",
   "nbconvert_exporter": "python",
   "pygments_lexer": "ipython3",
   "version": "3.8.5"
  }
 },
 "nbformat": 4,
 "nbformat_minor": 4
}
