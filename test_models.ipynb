{
 "cells": [
  {
   "cell_type": "markdown",
   "metadata": {},
   "source": [
    "# **Setup**"
   ]
  },
  {
   "cell_type": "markdown",
   "metadata": {},
   "source": [
    "## Import notebooks"
   ]
  },
  {
   "cell_type": "code",
   "execution_count": 1,
   "metadata": {},
   "outputs": [],
   "source": [
    "%%capture\n",
    "# Note the python import here\n",
    "import reuse, sys\n",
    "\n",
    "# This is the Ipython hook\n",
    "sys.meta_path.append(reuse.NotebookFinder())\n",
    "from dataset_balancing import X_train, y_train, X_test, y_test"
   ]
  },
  {
   "cell_type": "markdown",
   "metadata": {},
   "source": [
    "## Import libraries"
   ]
  },
  {
   "cell_type": "code",
   "execution_count": 2,
   "metadata": {},
   "outputs": [],
   "source": [
    "import pandas as pd\n",
    "\n",
    "from sklearn.neighbors import KNeighborsClassifier\n",
    "from sklearn.metrics import accuracy_score\n",
    "from sklearn import svm\n",
    "from sklearn.svm import SVC\n",
    "from sklearn.ensemble import AdaBoostClassifier, BaggingClassifier, StackingClassifier\n",
    "from sklearn.naive_bayes import GaussianNB\n",
    "from sklearn.linear_model import LogisticRegression\n",
    "from sklearn.cluster import KMeans\n",
    "from sklearn import preprocessing\n",
    "from sklearn.metrics import classification_report"
   ]
  },
  {
   "cell_type": "code",
   "execution_count": 3,
   "metadata": {},
   "outputs": [],
   "source": [
    "X_train = X_train.drop(['fnlwgt', 'sex','workclass_selfempl'],1)\n",
    "X_test = X_test.drop(['fnlwgt', 'sex', 'workclass_selfempl'],1)"
   ]
  },
  {
   "cell_type": "markdown",
   "metadata": {},
   "source": [
    "# **Test models**"
   ]
  },
  {
   "cell_type": "markdown",
   "metadata": {},
   "source": [
    "## SVM"
   ]
  },
  {
   "cell_type": "code",
   "execution_count": 4,
   "metadata": {},
   "outputs": [],
   "source": [
    "model = svm.SVC().fit(X_train,y_train)\n",
    "predictions = model.predict(X_test)\n",
    "df = pd.DataFrame({'actual':y_test,'predicted':predictions})\n",
    "result = classification_report(df['actual'],df['predicted'])\n",
    "print(f\"SVM\\n{result}\")"
   ]
  },
  {
   "cell_type": "markdown",
   "metadata": {},
   "source": [
    "## KMeans"
   ]
  },
  {
   "cell_type": "code",
   "execution_count": 5,
   "metadata": {},
   "outputs": [],
   "source": [
    "model = KMeans(n_clusters=1, random_state=0).fit(X_train,y_train)\n",
    "predictions = model.predict(X_test)\n",
    "df = pd.DataFrame({'actual':y_test,'predicted':predictions})\n",
    "result = classification_report(df['actual'],df['predicted'], zero_division=1)\n",
    "print(f\"KMeans\\n{result}\")"
   ]
  },
  {
   "cell_type": "markdown",
   "metadata": {},
   "source": [
    "## KNN"
   ]
  },
  {
   "cell_type": "code",
   "execution_count": 6,
   "metadata": {},
   "outputs": [],
   "source": [
    "model = KNeighborsClassifier(n_neighbors=13).fit(X_train,y_train)\n",
    "predictions = model.predict(X_test)\n",
    "df = pd.DataFrame({'actual':y_test,'predicted':predictions})\n",
    "result = classification_report(df['actual'],df['predicted'])\n",
    "print(f\"KNN\\n{result}\")"
   ]
  },
  {
   "cell_type": "markdown",
   "metadata": {},
   "source": [
    "## Naive Bayes"
   ]
  },
  {
   "cell_type": "code",
   "execution_count": 7,
   "metadata": {},
   "outputs": [],
   "source": [
    "model = GaussianNB().fit(X_train,y_train)\n",
    "predictions = model.predict(X_test)\n",
    "df = pd.DataFrame({'actual':y_test,'predicted':predictions})\n",
    "result = classification_report(df['actual'],df['predicted'])\n",
    "print(f\"Naive Bayes\\n{result}\")"
   ]
  },
  {
   "cell_type": "markdown",
   "metadata": {},
   "source": [
    "## AdaBoost"
   ]
  },
  {
   "cell_type": "code",
   "execution_count": 8,
   "metadata": {},
   "outputs": [
    {
     "name": "stdout",
     "output_type": "stream",
     "text": [
      "Adaboost\n",
      "              precision    recall  f1-score   support\n",
      "\n",
      "           0       0.87      0.95      0.91     11360\n",
      "           1       0.78      0.58      0.66      3700\n",
      "\n",
      "    accuracy                           0.86     15060\n",
      "   macro avg       0.83      0.76      0.79     15060\n",
      "weighted avg       0.85      0.86      0.85     15060\n",
      "\n"
     ]
    }
   ],
   "source": [
    "model = AdaBoostClassifier(n_estimators=70).fit(X_train,y_train)\n",
    "predictions = model.predict(X_test)\n",
    "df = pd.DataFrame({'actual':y_test,'predicted':predictions})\n",
    "result = classification_report(df['actual'],df['predicted'])\n",
    "print(f\"Adaboost\\n{result}\")"
   ]
  },
  {
   "cell_type": "markdown",
   "metadata": {},
   "source": [
    "## Bagging"
   ]
  },
  {
   "cell_type": "code",
   "execution_count": 9,
   "metadata": {},
   "outputs": [],
   "source": [
    "model = BaggingClassifier(base_estimator=SVC(),n_estimators=2, random_state=0).fit(X_train,y_train)\n",
    "predictions = model.predict(X_test)\n",
    "df = pd.DataFrame({'actual':y_test,'predicted':predictions})\n",
    "result = classification_report(df['actual'],df['predicted'])\n",
    "print(f\"Bagging\\n{result}\")"
   ]
  },
  {
   "cell_type": "markdown",
   "metadata": {},
   "source": [
    "## Stacking"
   ]
  },
  {
   "cell_type": "code",
   "execution_count": 10,
   "metadata": {},
   "outputs": [],
   "source": [
    "model = StackingClassifier([('ab',AdaBoostClassifier()),('nb', GaussianNB())], final_estimator=LogisticRegression()).fit(X_train,y_train)\n",
    "predictions = model.predict(X_test)\n",
    "df = pd.DataFrame({'actual':y_test,'predicted':predictions})\n",
    "result = classification_report(df['actual'],df['predicted'])\n",
    "print(f\"Stacking\\n{result}\") "
   ]
  }
 ],
 "metadata": {
  "kernelspec": {
   "display_name": "Python 3",
   "language": "python",
   "name": "python3"
  },
  "language_info": {
   "codemirror_mode": {
    "name": "ipython",
    "version": 3
   },
   "file_extension": ".py",
   "mimetype": "text/x-python",
   "name": "python",
   "nbconvert_exporter": "python",
   "pygments_lexer": "ipython3",
   "version": "3.8.5"
  }
 },
 "nbformat": 4,
 "nbformat_minor": 4
}
