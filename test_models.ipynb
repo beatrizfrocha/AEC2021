{
 "cells": [
  {
   "cell_type": "markdown",
   "metadata": {},
   "source": [
    "# **Setup**"
   ]
  },
  {
   "cell_type": "markdown",
   "metadata": {},
   "source": [
    "## Import notebooks"
   ]
  },
  {
   "cell_type": "code",
   "execution_count": 1,
   "metadata": {},
   "outputs": [],
   "source": [
    "%%capture\n",
    "# Note the python import here\n",
    "import reuse, sys\n",
    "\n",
    "# This is the Ipython hook\n",
    "sys.meta_path.append(reuse.NotebookFinder())\n",
    "from dataset_balancing import X_train, y_train, X_test, y_test"
   ]
  },
  {
   "cell_type": "markdown",
   "metadata": {},
   "source": [
    "## Import libraries"
   ]
  },
  {
   "cell_type": "code",
   "execution_count": 2,
   "metadata": {},
   "outputs": [],
   "source": [
    "import pandas as pd\n",
    "\n",
    "from sklearn.neighbors import KNeighborsClassifier\n",
    "from sklearn.metrics import accuracy_score\n",
    "from sklearn import svm\n",
    "from sklearn.svm import SVC\n",
    "from sklearn.ensemble import AdaBoostClassifier, BaggingClassifier, StackingClassifier\n",
    "from sklearn.naive_bayes import GaussianNB\n",
    "from sklearn.linear_model import LogisticRegression\n",
    "from sklearn.cluster import KMeans\n",
    "from sklearn import preprocessing\n",
    "from sklearn.metrics import classification_report"
   ]
  },
  {
   "cell_type": "code",
   "execution_count": 3,
   "metadata": {},
   "outputs": [],
   "source": [
    "X_train = X_train.drop(['fnlwgt', 'capital-gain'],1)\n",
    "X_test = X_test.drop(['fnlwgt', 'capital-gain'],1)\n",
    "\n",
    "results = []"
   ]
  },
  {
   "cell_type": "markdown",
   "metadata": {},
   "source": [
    "# SVM"
   ]
  },
  {
   "cell_type": "code",
   "execution_count": 4,
   "metadata": {},
   "outputs": [
    {
     "name": "stdout",
     "output_type": "stream",
     "text": [
      "SVM\n",
      "              precision    recall  f1-score   support\n",
      "\n",
      "           0       0.77      0.99      0.87     11360\n",
      "           1       0.76      0.09      0.15      3700\n",
      "\n",
      "    accuracy                           0.77     15060\n",
      "   macro avg       0.77      0.54      0.51     15060\n",
      "weighted avg       0.77      0.77      0.69     15060\n",
      "\n"
     ]
    }
   ],
   "source": [
    "model = svm.SVC().fit(X_train,y_train)\n",
    "predictions = model.predict(X_test)\n",
    "df = pd.DataFrame({'actual':y_test,'predicted':predictions})\n",
    "result = classification_report(df['actual'],df['predicted'])\n",
    "results.append(result)\n",
    "print(f\"SVM\\n{result}\")"
   ]
  },
  {
   "cell_type": "markdown",
   "metadata": {},
   "source": [
    "# KMeans"
   ]
  },
  {
   "cell_type": "code",
   "execution_count": 5,
   "metadata": {},
   "outputs": [
    {
     "name": "stdout",
     "output_type": "stream",
     "text": [
      "KMeans\n",
      "              precision    recall  f1-score   support\n",
      "\n",
      "           0       0.75      1.00      0.86     11360\n",
      "           1       1.00      0.00      0.00      3700\n",
      "\n",
      "    accuracy                           0.75     15060\n",
      "   macro avg       0.88      0.50      0.43     15060\n",
      "weighted avg       0.81      0.75      0.65     15060\n",
      "\n"
     ]
    }
   ],
   "source": [
    "model = KMeans(n_clusters=1, random_state=0).fit(X_train,y_train)\n",
    "predictions = model.predict(X_test)\n",
    "df = pd.DataFrame({'actual':y_test,'predicted':predictions})\n",
    "result = classification_report(df['actual'],df['predicted'], zero_division=1)\n",
    "results.append(result)\n",
    "print(f\"KMeans\\n{result}\")"
   ]
  },
  {
   "cell_type": "markdown",
   "metadata": {},
   "source": [
    "# KNN"
   ]
  },
  {
   "cell_type": "code",
   "execution_count": 6,
   "metadata": {},
   "outputs": [
    {
     "name": "stdout",
     "output_type": "stream",
     "text": [
      "KNN\n",
      "              precision    recall  f1-score   support\n",
      "\n",
      "           0       0.87      0.90      0.88     11360\n",
      "           1       0.65      0.58      0.61      3700\n",
      "\n",
      "    accuracy                           0.82     15060\n",
      "   macro avg       0.76      0.74      0.75     15060\n",
      "weighted avg       0.81      0.82      0.82     15060\n",
      "\n"
     ]
    }
   ],
   "source": [
    "model = KNeighborsClassifier().fit(X_train,y_train)\n",
    "predictions = model.predict(X_test)\n",
    "df = pd.DataFrame({'actual':y_test,'predicted':predictions})\n",
    "result = classification_report(df['actual'],df['predicted'])\n",
    "results.append(result)\n",
    "print(f\"KNN\\n{result}\")"
   ]
  },
  {
   "cell_type": "markdown",
   "metadata": {},
   "source": [
    "# Naive Bayes"
   ]
  },
  {
   "cell_type": "code",
   "execution_count": 7,
   "metadata": {},
   "outputs": [
    {
     "name": "stdout",
     "output_type": "stream",
     "text": [
      "Naive Bayes\n",
      "              precision    recall  f1-score   support\n",
      "\n",
      "           0       0.94      0.67      0.78     11360\n",
      "           1       0.46      0.87      0.60      3700\n",
      "\n",
      "    accuracy                           0.72     15060\n",
      "   macro avg       0.70      0.77      0.69     15060\n",
      "weighted avg       0.82      0.72      0.74     15060\n",
      "\n"
     ]
    }
   ],
   "source": [
    "model = GaussianNB().fit(X_train,y_train)\n",
    "predictions = model.predict(X_test)\n",
    "df = pd.DataFrame({'actual':y_test,'predicted':predictions})\n",
    "result = classification_report(df['actual'],df['predicted'])\n",
    "results.append(result)\n",
    "print(f\"Naive Bayes\\n{result}\")"
   ]
  },
  {
   "cell_type": "markdown",
   "metadata": {},
   "source": [
    "# AdaBoost"
   ]
  },
  {
   "cell_type": "code",
   "execution_count": 8,
   "metadata": {},
   "outputs": [
    {
     "name": "stdout",
     "output_type": "stream",
     "text": [
      "Adaboost\n",
      "              precision    recall  f1-score   support\n",
      "\n",
      "           0       0.87      0.92      0.89     11360\n",
      "           1       0.70      0.57      0.63      3700\n",
      "\n",
      "    accuracy                           0.83     15060\n",
      "   macro avg       0.78      0.75      0.76     15060\n",
      "weighted avg       0.83      0.83      0.83     15060\n",
      "\n"
     ]
    }
   ],
   "source": [
    "model = AdaBoostClassifier().fit(X_train,y_train)\n",
    "predictions = model.predict(X_test)\n",
    "df = pd.DataFrame({'actual':y_test,'predicted':predictions})\n",
    "result = classification_report(df['actual'],df['predicted'])\n",
    "results.append(result)\n",
    "print(f\"Adaboost\\n{result}\")"
   ]
  },
  {
   "cell_type": "markdown",
   "metadata": {},
   "source": [
    "# Bagging"
   ]
  },
  {
   "cell_type": "code",
   "execution_count": 9,
   "metadata": {},
   "outputs": [
    {
     "name": "stdout",
     "output_type": "stream",
     "text": [
      "Bagging\n",
      "              precision    recall  f1-score   support\n",
      "\n",
      "           0       0.77      0.99      0.87     11360\n",
      "           1       0.76      0.09      0.15      3700\n",
      "\n",
      "    accuracy                           0.77     15060\n",
      "   macro avg       0.77      0.54      0.51     15060\n",
      "weighted avg       0.77      0.77      0.69     15060\n",
      "\n"
     ]
    }
   ],
   "source": [
    "model = BaggingClassifier(base_estimator=SVC(),n_estimators=2, random_state=0).fit(X_train,y_train)\n",
    "predictions = model.predict(X_test)\n",
    "df = pd.DataFrame({'actual':y_test,'predicted':predictions})\n",
    "result = classification_report(df['actual'],df['predicted'])\n",
    "results.append(result)\n",
    "print(f\"Bagging\\n{result}\")"
   ]
  },
  {
   "cell_type": "markdown",
   "metadata": {},
   "source": [
    "# Stacking"
   ]
  },
  {
   "cell_type": "code",
   "execution_count": 10,
   "metadata": {},
   "outputs": [
    {
     "name": "stdout",
     "output_type": "stream",
     "text": [
      "Stacking\n",
      "              precision    recall  f1-score   support\n",
      "\n",
      "           0       0.84      0.96      0.89     11360\n",
      "           1       0.77      0.44      0.56      3700\n",
      "\n",
      "    accuracy                           0.83     15060\n",
      "   macro avg       0.80      0.70      0.72     15060\n",
      "weighted avg       0.82      0.83      0.81     15060\n",
      "\n"
     ]
    }
   ],
   "source": [
    "model = StackingClassifier([('ab',AdaBoostClassifier()),('nb', GaussianNB())], final_estimator=LogisticRegression()).fit(X_train,y_train)\n",
    "predictions = model.predict(X_test)\n",
    "df = pd.DataFrame({'actual':y_test,'predicted':predictions})\n",
    "result = classification_report(df['actual'],df['predicted'])\n",
    "results.append(result)\n",
    "print(f\"Stacking\\n{result}\") "
   ]
  },
  {
   "cell_type": "code",
   "execution_count": 11,
   "metadata": {},
   "outputs": [
    {
     "name": "stdout",
     "output_type": "stream",
     "text": [
      "0.77,0.75,0.82,0.72,0.83,0.77,0.83,"
     ]
    }
   ],
   "source": [
    "for res in results:\n",
    "    print(res.split(\"\\n\")[5].strip().split(\" \")[27], end=\",\")"
   ]
  }
 ],
 "metadata": {
  "kernelspec": {
   "display_name": "Python 3",
   "language": "python",
   "name": "python3"
  },
  "language_info": {
   "codemirror_mode": {
    "name": "ipython",
    "version": 3
   },
   "file_extension": ".py",
   "mimetype": "text/x-python",
   "name": "python",
   "nbconvert_exporter": "python",
   "pygments_lexer": "ipython3",
   "version": "3.8.5"
  }
 },
 "nbformat": 4,
 "nbformat_minor": 4
}
